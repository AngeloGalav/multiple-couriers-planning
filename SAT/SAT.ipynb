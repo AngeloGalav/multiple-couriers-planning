{
 "cells": [
  {
   "cell_type": "code",
   "execution_count": 33,
   "metadata": {},
   "outputs": [],
   "source": [
    "import z3\n",
    "import SATfunctions as SAT\n",
    "\n",
    "def read_input_file(file_path):\n",
    "    with open(file_path, 'r') as file:\n",
    "        m = int(file.readline().strip())\n",
    "        n = int(file.readline().strip())\n",
    "        #s = [0 for _ in range(m)]\n",
    "        s = list(map(int, file.readline().strip().split()))\n",
    "        w = list(map(int, file.readline().strip().split()))\n",
    "        for i in range(m):\n",
    "            s[i] = SAT.int2boolList(s[i])\n",
    "        for i in range(n):\n",
    "            w[i] = SAT.int2boolList(w[i])\n",
    "\n",
    "        # Inizializza la matrice delle distanze D\n",
    "        D = [[0 for _ in range(n+1)] for _ in range(n+1)]\n",
    "\n",
    "        # Leggi i valori della matrice delle distanze dalla restante parte del file\n",
    "        for i in range(n+1):\n",
    "            row_values = list(map(int, file.readline().strip().split()))\n",
    "            D[i] = row_values\n",
    "            for j in range(n+1):\n",
    "                D[i][j] = SAT.int2boolList(D[i][j])\n",
    "\n",
    "        m = SAT.int2boolList(m)\n",
    "        n = SAT.int2boolList(n)\n",
    "\n",
    "    return m, n, s, w, D"
   ]
  },
  {
   "cell_type": "code",
   "execution_count": null,
   "metadata": {},
   "outputs": [],
   "source": [
    "def SAT_mcp(m, n, s, w, D):\n",
    "    # Inizializza il solver Z3\n",
    "    solver = z3.solver()\n",
    "\n",
    "    x = [SAT.T_NumberAsBoolList for i in SAT.bool2int(n)]\n",
    "    tour = [SAT.T_NumberAsBoolList for i in SAT.bool2int(n)]\n",
    "\n",
    "    #Domains\n",
    "    for i in range(SAT.bool2int(n)):\n",
    "        solver.add(SAT.gt(x[i],[False]))\n",
    "        solver.add(SAT.gt(tour[i],[False]))\n",
    "        solver.add(SAT.lte(x[i],m))\n",
    "        solver.add(SAT.lte(tour[i],...))                                #must add the constraint tour[i]<=total_number_of_i-courier_deliveries\n",
    "\n",
    "\n",
    "\n",
    "\n",
    "\n",
    "    if solver.check() == sat:\n",
    "        model = solver.model()\n",
    "        print(\"Sat:\")\n",
    "        print(model)\n",
    "    else:\n",
    "        print(\"Unsat\")"
   ]
  },
  {
   "cell_type": "code",
   "execution_count": 34,
   "metadata": {},
   "outputs": [
    {
     "name": "stdout",
     "output_type": "stream",
     "text": [
      "[True, False] [True, False, False] [[True, False, True, False], [True, False, True, False]] [[True, False, True, True], [True], [True], [True]] [[[False], [True, False, False], [True, False, False], [True, True], [True, False]], [[True, False, False], [False], [True, False, False], [True, False, False], [True, False, False]], [[True, False, False], [True, False, False], [False], [True, True], [True, False]], [[True, True], [True, False, False], [True, True], [False], [True, True]], [[True, False], [True, False, False], [True, False], [True, True], [False]]]\n"
     ]
    }
   ],
   "source": [
    "m,n,s,w,D = read_input_file('instance.txt')\n",
    "print(m,n,s,w,D)"
   ]
  }
 ],
 "metadata": {
  "kernelspec": {
   "display_name": "Python 3",
   "language": "python",
   "name": "python3"
  },
  "language_info": {
   "codemirror_mode": {
    "name": "ipython",
    "version": 3
   },
   "file_extension": ".py",
   "mimetype": "text/x-python",
   "name": "python",
   "nbconvert_exporter": "python",
   "pygments_lexer": "ipython3",
   "version": "3.10.2"
  },
  "orig_nbformat": 4
 },
 "nbformat": 4,
 "nbformat_minor": 2
}
