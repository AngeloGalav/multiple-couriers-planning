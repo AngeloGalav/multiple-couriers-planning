{
 "cells": [
  {
   "cell_type": "code",
   "execution_count": 1,
   "metadata": {},
   "outputs": [],
   "source": [
    "import z3\n",
    "import SATfunctions2 as SATf\n",
    "from typing import List\n",
    "from math import log,ceil\n",
    "\n",
    "def read_input_file(file_path):\n",
    "    with open(file_path, 'r') as file:\n",
    "        m = int(file.readline().strip())\n",
    "        n = int(file.readline().strip())\n",
    "        #s = [0 for _ in range(m)]\n",
    "        s = list(map(int, file.readline().strip().split()))\n",
    "        w = list(map(int, file.readline().strip().split()))\n",
    "\n",
    "        # Inizializza la matrice delle distanze D\n",
    "        D = [[0 for _ in range(n+1)] for _ in range(n+1)]\n",
    "\n",
    "        # Leggi i valori della matrice delle distanze dalla restante parte del file\n",
    "        for i in range(n+1):\n",
    "            row_values = list(map(int, file.readline().strip().split()))\n",
    "            D[i] = row_values\n",
    "\n",
    "    #U vettore di n variabili (1 e n) con valore da 1 a n\n",
    "\n",
    "    return m, n, s, w, D"
   ]
  },
  {
   "cell_type": "code",
   "execution_count": 2,
   "metadata": {},
   "outputs": [],
   "source": [
    "def SAT_mcp(m, n, s, w, D):\n",
    "    mb = SATf.int2boolList(m)\n",
    "    nb = SATf.int2boolList(n)\n",
    "    sb = [SATf.int2boolList(s[i]) for i in range(m)]\n",
    "    wb = [SATf.int2boolList(w[i]) for i in range(n)]\n",
    "    Db = [[SATf.int2boolList(D[i][j]) for j in range(n+1)] for i in range(n+1)]\n",
    "    # Inizializza il solver Z3\n",
    "    solver = z3.Solver()\n",
    "\n",
    "    x = [[z3.Bool(f'x_{i}_{j}') for j in range(len(mb))] for i in range(n)]\n",
    "    tour = [[z3.Bool(f'tour_{i}_{j}') for j in range(len(nb))] for i in range(n)]\n",
    "    #Domains\n",
    "    for i in range(n):\n",
    "        solver.add(SATf.at_least_one_T(x[i]))\n",
    "        solver.add(SATf.at_least_one_T(tour[i]))\n",
    "        solver.add(SATf.lte(x[i],mb))\n",
    "        solver.add(SATf.lte(tour[i],SATf.sum_b_list([SATf.eq(x[i],x[k]) for k in range(n)])))\n",
    "\n",
    "    #C1     weight constraint\n",
    "    for i in range(m):\n",
    "        solver.add(SATf.gte(sb[i],SATf.sum_b_list([SATf.enable(wb[j],SATf.eq(SATf.int2boolList(i+1),x[j])) for j in range(n)])))\n",
    "        solver.add(SATf.gte(sb[0],SATf.sum_b_list([SATf.enable(wb[0],SATf.eq(SATf.int2boolList(i+1),x[0]))])))\n",
    "    \n",
    "    #C2   a courier cannot delivery two items at the same time  \n",
    "    for i in range(n):\n",
    "        for j in range(i+1,n):\n",
    "            solver.add(z3.Or(SATf.ne(x[i],x[j]),SATf.ne(tour[i],tour[j])))\n",
    "\n",
    "    #loss\n",
    "    lb = min(D[n])+min([D[i][n] for i in range(n+1)])\n",
    "    ub = sum([max(D[i]) for i in range(n+1)])\n",
    "    dist = [[z3.Bool(f'loss_{i}_{j}') for j in range(ceil(log(ub,2)))] for i in range(m)]    #list of distances of each courier\n",
    "\n",
    "\n",
    "\n",
    "\n",
    "\n",
    "    if solver.check() == z3.sat:\n",
    "        model = solver.model()\n",
    "        print(\"Sat:\")\n",
    "        print(model)\n",
    "    else:\n",
    "        print(\"Unsat\")"
   ]
  },
  {
   "cell_type": "code",
   "execution_count": 5,
   "metadata": {},
   "outputs": [
    {
     "name": "stdout",
     "output_type": "stream",
     "text": [
      "1 4 [10] [1, 1, 1, 1] [[0, 4, 4, 3, 2], [4, 0, 4, 4, 4], [4, 4, 0, 3, 2], [3, 4, 3, 0, 3], [2, 4, 2, 3, 0]]\n",
      "Sat:\n",
      "[x_3_0 = True,\n",
      " tour_1_1 = False,\n",
      " xge_6b019cd1-73c7-476c-8f9e-dede00000806 = False,\n",
      " tour_2_0 = False,\n",
      " xge_6085250a-3bd5-4889-b884-806332d0ea50 = True,\n",
      " xge_a2f53f2f-28d0-4d14-bdfc-811dcaae7985 = False,\n",
      " xge_f477a1da-3238-426d-8f52-5e8cb5db949b = False,\n",
      " tour_0_0 = False,\n",
      " tour_1_0 = True,\n",
      " tour_3_0 = False,\n",
      " tour_3_1 = False,\n",
      " xge_be7d8409-0c87-4ead-8bac-ac938ce848b6 = False,\n",
      " xge_1c01e7e7-f4f2-4e6f-a554-a8a88415dbd6 = True,\n",
      " xge_a7a43381-e5b1-4c95-9312-c566f41affaa = False,\n",
      " tour_2_2 = False,\n",
      " x_0_0 = True,\n",
      " x_1_0 = True,\n",
      " tour_0_1 = True,\n",
      " x_2_0 = True,\n",
      " tour_1_2 = False,\n",
      " xge_acc53615-dc33-4dc0-b44b-01fab168456b = False,\n",
      " xge_95f4fdd0-7e18-44ba-9e81-ff657255a375 = False,\n",
      " tour_3_2 = True,\n",
      " xge_c00221e0-791a-42ff-adb0-3b958e2963c9 = False,\n",
      " tour_0_2 = True,\n",
      " tour_2_1 = True,\n",
      " xge_8759c385-2ea1-4c9f-a493-74deb072e6ea = False]\n"
     ]
    }
   ],
   "source": [
    "m,n,s,w,D = read_input_file('instance.txt')\n",
    "print(m,n,s,w,D)\n",
    "SAT_mcp(m, n, s, w, D)"
   ]
  }
 ],
 "metadata": {
  "kernelspec": {
   "display_name": "Python 3",
   "language": "python",
   "name": "python3"
  },
  "language_info": {
   "codemirror_mode": {
    "name": "ipython",
    "version": 3
   },
   "file_extension": ".py",
   "mimetype": "text/x-python",
   "name": "python",
   "nbconvert_exporter": "python",
   "pygments_lexer": "ipython3",
   "version": "3.10.2"
  },
  "orig_nbformat": 4
 },
 "nbformat": 4,
 "nbformat_minor": 2
}
