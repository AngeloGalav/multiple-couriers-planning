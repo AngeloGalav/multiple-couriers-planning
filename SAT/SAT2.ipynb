{
 "cells": [
  {
   "cell_type": "code",
   "execution_count": 1,
   "metadata": {},
   "outputs": [],
   "source": [
    "import z3\n",
    "import SATfunctions2 as SATf\n",
    "from scipy.optimize import minimize\n",
    "from math import log,ceil\n",
    "\n",
    "def read_input_file(file_path):\n",
    "    with open(file_path, 'r') as file:\n",
    "        m = int(file.readline().strip())\n",
    "        n = int(file.readline().strip())\n",
    "        #s = [0 for _ in range(m)]\n",
    "        s = list(map(int, file.readline().strip().split()))\n",
    "        w = list(map(int, file.readline().strip().split()))\n",
    "\n",
    "        # Inizializza la matrice delle distanze D\n",
    "        D = [[0 for _ in range(n+1)] for _ in range(n+1)]\n",
    "\n",
    "        # Leggi i valori della matrice delle distanze dalla restante parte del file\n",
    "        for i in range(n+1):\n",
    "            row_values = list(map(int, file.readline().strip().split()))\n",
    "            D[i] = row_values\n",
    "\n",
    "    #U vettore di n variabili (1 e n) con valore da 1 a n\n",
    "\n",
    "    return m, n, s, w, D"
   ]
  },
  {
   "cell_type": "code",
   "execution_count": 11,
   "metadata": {},
   "outputs": [],
   "source": [
    "def SAT_mcp(m, n, s, w, D):\n",
    "    mb = SATf.int2boolList(m)\n",
    "    nb = SATf.int2boolList(n)\n",
    "    sb = [SATf.int2boolList(s[i]) for i in range(m)]\n",
    "    wb = [SATf.int2boolList(w[i]) for i in range(n)]\n",
    "    Db = [[SATf.int2boolList(D[i][j]) for j in range(n+1)] for i in range(n+1)]\n",
    "    # Inizializza il solver Z3\n",
    "    solver = z3.Solver()\n",
    "\n",
    "    X = [[[z3.Bool(f'X_{i}_{j}_{k}') for k in range(n)] for j in range(n)] for i in range(m)]  #i courier, j item, k order\n",
    "\n",
    "    #C1     each item must be delivered once\n",
    "    for j in range(n):\n",
    "        solver.add(SATf.exactly_one_T([X[i][j][k] for i in range(m) for k in range(n)]))\n",
    "    \n",
    "    #C2 all zeros at the end of the order (to avoid symmetries)\n",
    "    for i in range(m):\n",
    "        for k in range(1,n):\n",
    "            solver.add(z3.Or(SATf.at_least_one_T([X[i][j][k-1] for j in range(n)]),SATf.all_F([X[i][j][k-1] for j in range(n)])))\n",
    "\n",
    "    #C3   weight constraint \n",
    "    for i in range(m):\n",
    "        solver.add(SATf.gte(sb[i],SATf.sum_b_list([SATf.enable(wb[j],SATf.at_least_one_T([X[i][j][k] for k in range(n)])) for j in range(n)])))\n",
    "\n",
    "    #loss\n",
    "    lb = min(D[n])+min([D[i][n] for i in range(n+1)])\n",
    "    ub = sum([max(D[i]) for i in range(n+1)])\n",
    "\n",
    "    if solver.check() == z3.sat:\n",
    "        model = solver.model()\n",
    "        print(\"Sat:\")\n",
    "        print(model)\n",
    "    else:\n",
    "        print(\"Unsat\")"
   ]
  },
  {
   "cell_type": "code",
   "execution_count": 13,
   "metadata": {},
   "outputs": [
    {
     "name": "stdout",
     "output_type": "stream",
     "text": [
      "2 4 [10, 10] [11, 1, 1, 1] [[0, 4, 4, 3, 2], [4, 0, 4, 4, 4], [4, 4, 0, 3, 2], [3, 4, 3, 0, 3], [2, 4, 2, 3, 0]]\n",
      "Unsat\n"
     ]
    }
   ],
   "source": [
    "m,n,s,w,D = read_input_file('instance.txt')\n",
    "print(m,n,s,w,D)\n",
    "SAT_mcp(m, n, s, w, D)"
   ]
  }
 ],
 "metadata": {
  "kernelspec": {
   "display_name": "Python 3",
   "language": "python",
   "name": "python3"
  },
  "language_info": {
   "codemirror_mode": {
    "name": "ipython",
    "version": 3
   },
   "file_extension": ".py",
   "mimetype": "text/x-python",
   "name": "python",
   "nbconvert_exporter": "python",
   "pygments_lexer": "ipython3",
   "version": "3.10.2"
  },
  "orig_nbformat": 4
 },
 "nbformat": 4,
 "nbformat_minor": 2
}
