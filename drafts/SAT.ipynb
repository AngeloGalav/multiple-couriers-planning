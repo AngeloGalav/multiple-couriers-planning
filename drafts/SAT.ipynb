{
 "cells": [
  {
   "cell_type": "code",
   "execution_count": 34,
   "metadata": {},
   "outputs": [
    {
     "name": "stdout",
     "output_type": "stream",
     "text": [
      "Courier 1:\n",
      "- Item 1: distance 6\n",
      "- Item 4: distance 10\n",
      "- Item 6: distance 14\n",
      "Total distance: 6\n",
      "Courier 2:\n",
      "- Item 3: distance 14\n",
      "- Item 7: distance 6\n",
      "Total distance: 7\n",
      "Courier 3:\n",
      "- Item 2: distance 14\n",
      "- Item 5: distance 14\n",
      "Total distance: 6\n",
      "Max distance: 7\n"
     ]
    }
   ],
   "source": [
    "import z3\n",
    "\n",
    "def max(vs):\n",
    "  m = vs[0]\n",
    "  for v in vs[1:]:\n",
    "    m = z3.If(v > m, v, m)\n",
    "  return m\n",
    "\n",
    "# Load instance data from file\n",
    "with open(\"instance.txt\", \"r\") as f:\n",
    "    m = int(f.readline())\n",
    "    n = int(f.readline())\n",
    "    l = [int(x) for x in f.readline().split()]\n",
    "    s = [int(x) for x in f.readline().split()]\n",
    "    D = [[int(x) for x in f.readline().split()] for _ in range(n+1)]\n",
    "\n",
    "# Define Z3 variables\n",
    "x = [ [ z3.Bool(\"x_%s_%s\" % (i+1, j+1)) for j in range(n) ] for i in range(m) ]\n",
    "d = [ z3.Int(\"d_%s\" % (i+1)) for i in range(m) ]\n",
    "\n",
    "# Define constraints\n",
    "constraints = []\n",
    "\n",
    "# Define constraints\n",
    "# Each item is assigned to exactly one courier\n",
    "for j in range(n):\n",
    "    sum_x = z3.Sum([z3.If(x[i][j], 1, 0) for i in range(m)])\n",
    "    constraints.append(sum_x == 1)\n",
    "    # Each courier does not exceed its maximum load capacity\n",
    "for i in range(m):\n",
    "    sum_s = sum([s[j] * x[i][j] for j in range(n)])\n",
    "    constraints.append(sum_s <= l[i])\n",
    "\n",
    "# Define objective function\n",
    "obj = max([d[i] for i in range(m)])\n",
    "\n",
    "for i in range(m):\n",
    "    for j in range(n):\n",
    "        d_i = \n",
    "    constraints.append(d[i] >= (d_i *x[i][j]))\n",
    "\n",
    "# Define Z3 solver and optimize\n",
    "solver = z3.Optimize()\n",
    "solver.add(constraints)\n",
    "solver.minimize(obj)\n",
    "\n",
    "# Check if there is a solution\n",
    "if solver.check() == z3.sat:\n",
    "    # Print solution\n",
    "    model = solver.model()\n",
    "    for i in range(m):\n",
    "        print(\"Courier %s:\" % (i+1))\n",
    "        for j in range(n):\n",
    "            if model.eval(x[i][j]) :\n",
    "                print(\"- Item %s: distance %s\" % (j+1, D[n][j+1] + D[j+1][i+1] + D[i+1][n]))\n",
    "        print(\"Total distance: %s\" % (model.eval(d[i])))\n",
    "    print(\"Max distance: %s\" % (model.eval(obj)))\n",
    "else:\n",
    "    print(\"No solution found.\")"
   ]
  },
  {
   "cell_type": "code",
   "execution_count": 29,
   "metadata": {},
   "outputs": [
    {
     "name": "stdout",
     "output_type": "stream",
     "text": [
      " \n",
      "1 \n",
      "1 \n",
      "-1 \n",
      "1 \n",
      "0 \n",
      "1 \n",
      "1 \n",
      " \n",
      "-1 \n",
      "1 \n",
      "1 \n",
      "0 \n",
      "1 \n",
      "0 \n",
      "0 \n",
      " \n",
      "1 \n",
      "-1 \n",
      "1 \n",
      "0 \n",
      "0 \n",
      "0 \n",
      "0 \n"
     ]
    }
   ],
   "source": [
    "for i in range(m):\n",
    "    print(\" \")\n",
    "    for j in range(n):\n",
    "        print(\"%s \" % (model.eval(x[i][j])))"
   ]
  }
 ],
 "metadata": {
  "kernelspec": {
   "display_name": "Python 3",
   "language": "python",
   "name": "python3"
  },
  "language_info": {
   "codemirror_mode": {
    "name": "ipython",
    "version": 3
   },
   "file_extension": ".py",
   "mimetype": "text/x-python",
   "name": "python",
   "nbconvert_exporter": "python",
   "pygments_lexer": "ipython3",
   "version": "3.10.2"
  },
  "orig_nbformat": 4
 },
 "nbformat": 4,
 "nbformat_minor": 2
}
